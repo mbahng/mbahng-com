{
 "cells": [
  {
   "cell_type": "code",
   "execution_count": 2,
   "metadata": {},
   "outputs": [],
   "source": [
    "import torch\n",
    "import numpy as np"
   ]
  },
  {
   "cell_type": "markdown",
   "metadata": {},
   "source": [
    "A torch tensor can be initialized from a list, a numpy array, a tuple, a float, or any iterable. "
   ]
  },
  {
   "cell_type": "code",
   "execution_count": 5,
   "metadata": {},
   "outputs": [
    {
     "name": "stdout",
     "output_type": "stream",
     "text": [
      "tensor(1.3000)\n",
      "tensor([[1, 2, 3],\n",
      "        [4, 5, 6],\n",
      "        [7, 8, 9]])\n",
      "tensor([1, 2, 3, 4])\n",
      "tensor([ 0,  1,  2,  3,  4,  5,  6,  7,  8,  9, 10, 11, 12, 13, 14, 15, 16, 17])\n"
     ]
    }
   ],
   "source": [
    "w = torch.tensor(1.3)\n",
    "x = torch.tensor([[1, 2, 3], [4, 5, 6], [7, 8, 9]])\n",
    "y = torch.tensor(np.array([1, 2, 3, 4])) \n",
    "z = torch.tensor(range(18))\n",
    "print(w)\n",
    "print(x) \n",
    "print(y) \n",
    "print(z)"
   ]
  },
  {
   "cell_type": "markdown",
   "metadata": {},
   "source": [
    "We can access its `dtype` and its shape with the following attributes/methods."
   ]
  },
  {
   "cell_type": "code",
   "execution_count": 6,
   "metadata": {},
   "outputs": [
    {
     "name": "stdout",
     "output_type": "stream",
     "text": [
      "torch.int64\n",
      "torch.Size([3, 3])\n",
      "torch.Size([3, 3])\n",
      "2\n"
     ]
    }
   ],
   "source": [
    "print(x.dtype) \n",
    "print(x.shape) \n",
    "print(x.size())\n",
    "print(x.dim())"
   ]
  },
  {
   "cell_type": "markdown",
   "metadata": {},
   "source": [
    "Note that `torch.tensor` infers the `dtype` while `torch.Tensor` uses `torch.float64`. To generate random numbers, we do the following. `"
   ]
  },
  {
   "cell_type": "code",
   "execution_count": 7,
   "metadata": {},
   "outputs": [
    {
     "name": "stdout",
     "output_type": "stream",
     "text": [
      "tensor([[[ 0.7887,  0.1853,  0.9412],\n",
      "         [-0.4127,  1.1099,  0.3560]],\n",
      "\n",
      "        [[ 2.4980,  0.2225,  1.2892],\n",
      "         [ 0.4702,  1.1336,  1.3040]]])\n"
     ]
    }
   ],
   "source": [
    "x = torch.randn((2, 2, 3)) # random normal distribution \n",
    "jprint(x)"
   ]
  },
  {
   "cell_type": "markdown",
   "metadata": {},
   "source": [
    "Given some shape, we may want to reshape it in some way. To simply swap two dimensions, we can do `transpose`, but for more general reshapes we can do multiple things. \n",
    "\n",
    "1. `view` is the original method that simply creates a new instance of pointers and does not copy the values. All elements of the new tensor are copied by reference.\n",
    "2. `clone` simply clones the new tensor. \n",
    "3. `reshape` tries to call `view` if possible, otherwise it clones and then reshapes it. \n"
   ]
  },
  {
   "cell_type": "code",
   "execution_count": 9,
   "metadata": {},
   "outputs": [
    {
     "name": "stdout",
     "output_type": "stream",
     "text": [
      "tensor([[[ 0.7887, -0.4127],\n",
      "         [ 0.1853,  1.1099],\n",
      "         [ 0.9412,  0.3560]],\n",
      "\n",
      "        [[ 2.4980,  0.4702],\n",
      "         [ 0.2225,  1.1336],\n",
      "         [ 1.2892,  1.3040]]])\n",
      "tensor([[[ 0.7887,  0.1853,  0.9412]],\n",
      "\n",
      "        [[-0.4127,  1.1099,  0.3560]],\n",
      "\n",
      "        [[ 2.4980,  0.2225,  1.2892]],\n",
      "\n",
      "        [[ 0.4702,  1.1336,  1.3040]]])\n",
      "tensor([[ 0.7887,  0.1853,  0.9412],\n",
      "        [-0.4127,  1.1099,  0.3560],\n",
      "        [ 2.4980,  0.2225,  1.2892],\n",
      "        [ 0.4702,  1.1336,  1.3040]])\n",
      "tensor([[[ 0.7887,  0.1853,  0.9412],\n",
      "         [-0.4127,  1.1099,  0.3560]],\n",
      "\n",
      "        [[ 2.4980,  0.2225,  1.2892],\n",
      "         [ 0.4702,  1.1336,  1.3040]]])\n"
     ]
    }
   ],
   "source": [
    "# changes the index 1 and 2 dimensions (2, 2, 3) -> (2, 3, 2) \n",
    "print(x.transpose(1, 2))\n",
    "\n",
    "# -1 is inferred to be 3\n",
    "print(x.reshape(4, 1, -1))\n",
    "\n",
    "print(x.view(4, -1))\n",
    "\n",
    "x_ = x.clone()\n",
    "print(x_)"
   ]
  },
  {
   "cell_type": "markdown",
   "metadata": {},
   "source": [
    "Pytorch provides a lot of functionality to work with tensors. For example, `torch.chunk` divides a tensor into equally sized chunks across a dimension. "
   ]
  },
  {
   "cell_type": "code",
   "execution_count": 13,
   "metadata": {},
   "outputs": [
    {
     "name": "stdout",
     "output_type": "stream",
     "text": [
      "torch.Size([1, 10, 12])\n",
      "torch.Size([5, 5, 12])\n",
      "torch.Size([5, 10, 4])\n"
     ]
    }
   ],
   "source": [
    "x = torch.randn((5, 10, 12)) \n",
    "a1, a2, a3, a4, a5 = torch.chunk(x, 5, dim=0)\n",
    "b1, b2 = torch.chunk(x, 2, dim=1)\n",
    "c1, c2, c3 = torch.chunk(x, 3, dim=2)\n",
    "print(a1.shape)\n",
    "print(b1.shape)\n",
    "print(c1.shape)"
   ]
  }
 ],
 "metadata": {
  "kernelspec": {
   "display_name": "nano",
   "language": "python",
   "name": "python3"
  },
  "language_info": {
   "codemirror_mode": {
    "name": "ipython",
    "version": 3
   },
   "file_extension": ".py",
   "mimetype": "text/x-python",
   "name": "python",
   "nbconvert_exporter": "python",
   "pygments_lexer": "ipython3",
   "version": "3.12.5"
  }
 },
 "nbformat": 4,
 "nbformat_minor": 2
}

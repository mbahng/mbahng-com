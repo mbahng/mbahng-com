{
 "cells": [
  {
   "cell_type": "code",
   "execution_count": 10,
   "metadata": {},
   "outputs": [],
   "source": [
    "import torch\n",
    "import torch.nn as nn\n",
    "import matplotlib.pyplot as plt"
   ]
  },
  {
   "cell_type": "markdown",
   "metadata": {},
   "source": [
    "In here, we will explore what we can do with a basic neural net. This will apply to future architectures. Let's first create some simple functions.  "
   ]
  },
  {
   "cell_type": "markdown",
   "metadata": {},
   "source": [
    "### Linear Functions"
   ]
  },
  {
   "cell_type": "code",
   "execution_count": 7,
   "metadata": {},
   "outputs": [
    {
     "name": "stdout",
     "output_type": "stream",
     "text": [
      "Shape of input x : torch.Size([100])\n",
      "Shape of output y : torch.Size([50])\n"
     ]
    }
   ],
   "source": [
    "# create a linear map from R^100 to R^50 with bias \n",
    "linear1 = nn.Linear(\n",
    "    in_features = 100, \n",
    "    out_features= 50, \n",
    "    bias = True\n",
    ")\n",
    "\n",
    "x = torch.randn(100) \n",
    "print(f\"Shape of input x : {x.size()}\")\n",
    "y = linear1(x) \n",
    "print(f\"Shape of output y : {y.size()}\")"
   ]
  },
  {
   "cell_type": "markdown",
   "metadata": {},
   "source": [
    "We can see the parameters of this function, through three ways: \n",
    "- Call the `.parameters()` method, which returns a generator of `torch.nn.parameter.Parameter` objects. \n",
    "- Call the `.named_parameters()` method, which returns a generator of tuples of type (`str`, `torch.nn.parameter.Parameter`) \n",
    "- Call the `.state_dict()` method, which returns a generater of all model states. As of this point, the state dict is equivalent, but it is more general and gives more information for more complicated models. "
   ]
  },
  {
   "cell_type": "code",
   "execution_count": 17,
   "metadata": {},
   "outputs": [
    {
     "name": "stdout",
     "output_type": "stream",
     "text": [
      "Just calling Parameters ========\n",
      "<class 'torch.nn.parameter.Parameter'>\n",
      "Parameter containing:\n",
      "tensor([[ 0.0254,  0.0228, -0.0663,  ..., -0.0025,  0.0983, -0.0226],\n",
      "        [ 0.0070,  0.0402,  0.0142,  ..., -0.0476, -0.0482,  0.0760],\n",
      "        [-0.0830, -0.0249, -0.0068,  ...,  0.0219,  0.0149, -0.0563],\n",
      "        ...,\n",
      "        [ 0.0198, -0.0488, -0.0460,  ...,  0.0835,  0.0892,  0.0963],\n",
      "        [ 0.0608,  0.0494, -0.0246,  ..., -0.0522, -0.0519,  0.0348],\n",
      "        [-0.0501,  0.0029,  0.0696,  ..., -0.0722,  0.0799,  0.0588]],\n",
      "       requires_grad=True)\n",
      "<class 'torch.nn.parameter.Parameter'>\n",
      "Parameter containing:\n",
      "tensor([-0.0206, -0.0592, -0.0231,  0.0037, -0.0225,  0.0966,  0.0424, -0.0877,\n",
      "        -0.0550, -0.0859,  0.0200,  0.0045,  0.0856,  0.0892,  0.0064,  0.0447,\n",
      "        -0.0982, -0.0598,  0.0698,  0.0447, -0.0645, -0.0610, -0.0348, -0.0928,\n",
      "         0.0738, -0.0765, -0.0180, -0.0069,  0.0815,  0.0230, -0.0525,  0.0228,\n",
      "         0.0038, -0.0225,  0.0542,  0.0087,  0.0344,  0.0931, -0.0794,  0.0746,\n",
      "         0.0421, -0.0776,  0.0883, -0.0080, -0.0152,  0.0780,  0.0745,  0.0306,\n",
      "         0.0832, -0.0274], requires_grad=True)\n",
      "Calling Named Parameters ========\n",
      "weight\n",
      "Parameter containing:\n",
      "tensor([[ 0.0254,  0.0228, -0.0663,  ..., -0.0025,  0.0983, -0.0226],\n",
      "        [ 0.0070,  0.0402,  0.0142,  ..., -0.0476, -0.0482,  0.0760],\n",
      "        [-0.0830, -0.0249, -0.0068,  ...,  0.0219,  0.0149, -0.0563],\n",
      "        ...,\n",
      "        [ 0.0198, -0.0488, -0.0460,  ...,  0.0835,  0.0892,  0.0963],\n",
      "        [ 0.0608,  0.0494, -0.0246,  ..., -0.0522, -0.0519,  0.0348],\n",
      "        [-0.0501,  0.0029,  0.0696,  ..., -0.0722,  0.0799,  0.0588]],\n",
      "       requires_grad=True)\n",
      "bias\n",
      "Parameter containing:\n",
      "tensor([-0.0206, -0.0592, -0.0231,  0.0037, -0.0225,  0.0966,  0.0424, -0.0877,\n",
      "        -0.0550, -0.0859,  0.0200,  0.0045,  0.0856,  0.0892,  0.0064,  0.0447,\n",
      "        -0.0982, -0.0598,  0.0698,  0.0447, -0.0645, -0.0610, -0.0348, -0.0928,\n",
      "         0.0738, -0.0765, -0.0180, -0.0069,  0.0815,  0.0230, -0.0525,  0.0228,\n",
      "         0.0038, -0.0225,  0.0542,  0.0087,  0.0344,  0.0931, -0.0794,  0.0746,\n",
      "         0.0421, -0.0776,  0.0883, -0.0080, -0.0152,  0.0780,  0.0745,  0.0306,\n",
      "         0.0832, -0.0274], requires_grad=True)\n",
      "Calling Model State Dict ========\n",
      "weight\n",
      "tensor([[ 0.0254,  0.0228, -0.0663,  ..., -0.0025,  0.0983, -0.0226],\n",
      "        [ 0.0070,  0.0402,  0.0142,  ..., -0.0476, -0.0482,  0.0760],\n",
      "        [-0.0830, -0.0249, -0.0068,  ...,  0.0219,  0.0149, -0.0563],\n",
      "        ...,\n",
      "        [ 0.0198, -0.0488, -0.0460,  ...,  0.0835,  0.0892,  0.0963],\n",
      "        [ 0.0608,  0.0494, -0.0246,  ..., -0.0522, -0.0519,  0.0348],\n",
      "        [-0.0501,  0.0029,  0.0696,  ..., -0.0722,  0.0799,  0.0588]])\n",
      "bias\n",
      "tensor([-0.0206, -0.0592, -0.0231,  0.0037, -0.0225,  0.0966,  0.0424, -0.0877,\n",
      "        -0.0550, -0.0859,  0.0200,  0.0045,  0.0856,  0.0892,  0.0064,  0.0447,\n",
      "        -0.0982, -0.0598,  0.0698,  0.0447, -0.0645, -0.0610, -0.0348, -0.0928,\n",
      "         0.0738, -0.0765, -0.0180, -0.0069,  0.0815,  0.0230, -0.0525,  0.0228,\n",
      "         0.0038, -0.0225,  0.0542,  0.0087,  0.0344,  0.0931, -0.0794,  0.0746,\n",
      "         0.0421, -0.0776,  0.0883, -0.0080, -0.0152,  0.0780,  0.0745,  0.0306,\n",
      "         0.0832, -0.0274])\n"
     ]
    }
   ],
   "source": [
    "print(\"Just calling Parameters ========\")\n",
    "for param in linear1.parameters(): \n",
    "    print(type(param))\n",
    "    print(param) \n",
    "\n",
    "print(\"Calling Named Parameters ========\")\n",
    "for name, param in linear1.named_parameters(): \n",
    "    print(name)\n",
    "    print(param) \n",
    "\n",
    "print(\"Calling Model State Dict ========\")\n",
    "for param in linear1.state_dict(): \n",
    "    print(param) \n",
    "    print(linear1.state_dict()[param])\n",
    "    \n"
   ]
  },
  {
   "cell_type": "markdown",
   "metadata": {},
   "source": [
    "The most important attributes and methods in parameter objects that you will deal with is the following : \n",
    "- `.data` attribute, which gives you the actual parameter matrix. \n",
    "- `.requires_grad` attribute, which tells you whether the parameter is storing gradients. \n",
    "- `.`\n",
    "\n",
    "You can also filter using the state_dict or the named parameters to find parameters that are only weights or only biases, etc. "
   ]
  },
  {
   "cell_type": "code",
   "execution_count": 18,
   "metadata": {},
   "outputs": [
    {
     "name": "stdout",
     "output_type": "stream",
     "text": [
      "True\n",
      "tensor([[ 0.0254,  0.0228, -0.0663,  ..., -0.0025,  0.0983, -0.0226],\n",
      "        [ 0.0070,  0.0402,  0.0142,  ..., -0.0476, -0.0482,  0.0760],\n",
      "        [-0.0830, -0.0249, -0.0068,  ...,  0.0219,  0.0149, -0.0563],\n",
      "        ...,\n",
      "        [ 0.0198, -0.0488, -0.0460,  ...,  0.0835,  0.0892,  0.0963],\n",
      "        [ 0.0608,  0.0494, -0.0246,  ..., -0.0522, -0.0519,  0.0348],\n",
      "        [-0.0501,  0.0029,  0.0696,  ..., -0.0722,  0.0799,  0.0588]])\n"
     ]
    }
   ],
   "source": [
    "for name, param in linear1.named_parameters(): \n",
    "    if 'bias' not in name: \n",
    "        print(param.requires_grad)\n",
    "        print(param.data) "
   ]
  },
  {
   "cell_type": "markdown",
   "metadata": {},
   "source": [
    "To see how they are initialized, let's make a histogram of the parameters, which shows us that the parameters are uniformly distributed. "
   ]
  },
  {
   "cell_type": "code",
   "execution_count": 13,
   "metadata": {},
   "outputs": [
    {
     "data": {
      "image/png": "[encoded data removed]",
      "text/plain": [
       "<Figure size 640x480 with 1 Axes>"
      ]
     },
     "metadata": {},
     "output_type": "display_data"
    }
   ],
   "source": [
    "param_list = [] \n",
    "\n",
    "for param in linear1.parameters(): \n",
    "    # first flatten it  and then put it into a list\n",
    "    param_list += param.reshape(-1).tolist()\n",
    "    \n",
    "plt.hist(param_list)\n",
    "plt.show()  "
   ]
  },
  {
   "cell_type": "markdown",
   "metadata": {},
   "source": [
    "Say that we want to have a custom mapping, say the identity and adding a vector of all $2$'s onto our input vector. We can modify this mapping by iterating through the parameters and replacing it with what we want. "
   ]
  },
  {
   "cell_type": "code",
   "execution_count": 30,
   "metadata": {},
   "outputs": [
    {
     "name": "stdout",
     "output_type": "stream",
     "text": [
      "Original Weights ========\n",
      "weight\n",
      "Parameter containing:\n",
      "tensor([[ 0.0299, -0.0558, -0.0585,  ..., -0.0816, -0.0070,  0.0219],\n",
      "        [ 0.0929,  0.0220,  0.0127,  ...,  0.0034,  0.0754, -0.0020],\n",
      "        [-0.0011,  0.0257,  0.0006,  ...,  0.0357, -0.0484,  0.0411],\n",
      "        ...,\n",
      "        [ 0.0917,  0.0243,  0.0226,  ...,  0.0048,  0.0701,  0.0683],\n",
      "        [-0.0701,  0.0980, -0.0791,  ..., -0.0411,  0.0728,  0.0270],\n",
      "        [-0.0212,  0.0067, -0.0193,  ..., -0.0230, -0.0925,  0.0084]],\n",
      "       requires_grad=True)\n",
      "bias\n",
      "Parameter containing:\n",
      "tensor([ 0.0995, -0.0656,  0.0001, -0.0185, -0.0895,  0.0707, -0.0920,  0.0730,\n",
      "        -0.0846,  0.0945,  0.0118,  0.0152,  0.0142,  0.0434,  0.0172,  0.0894,\n",
      "         0.0638, -0.0862, -0.0055, -0.0566,  0.0945, -0.0462, -0.0587, -0.0815,\n",
      "         0.0314, -0.0407,  0.0321, -0.0175, -0.0699, -0.0792,  0.0049, -0.0699,\n",
      "        -0.0688, -0.0340, -0.0549,  0.0776,  0.0769,  0.0975,  0.0257,  0.0721,\n",
      "         0.0225, -0.0197,  0.0704,  0.0628, -0.0495,  0.0455,  0.0504,  0.0254,\n",
      "         0.0283, -0.0868], requires_grad=True)\n",
      "\n",
      "Evaluted : tensor([-0.1220,  0.1625,  0.2353,  0.5414, -0.8405, -0.4898, -0.3993,  0.4034,\n",
      "        -0.7933,  0.6353, -0.9556, -0.2367,  0.3651,  0.3393,  0.2207, -0.1597,\n",
      "         0.5482,  0.4888, -0.2635, -0.3560,  0.4007,  0.9232, -0.0935,  0.2263,\n",
      "        -0.4687,  0.4280,  0.3136, -0.0238, -0.4300,  0.0548,  0.5991,  0.1211,\n",
      "         0.0372,  0.5088,  0.1595, -0.4023, -0.5419,  1.0390, -0.2350,  0.6097,\n",
      "        -0.1665, -0.0709,  0.8688,  0.5184, -0.1613, -0.2287, -0.1152,  0.4499,\n",
      "         0.1438, -0.8168], grad_fn=<ViewBackward0>)\n",
      "=========================\n",
      "Updated Weights =========\n",
      "weight\n",
      "Parameter containing:\n",
      "tensor([[1., 0., 0.,  ..., 0., 0., 0.],\n",
      "        [0., 1., 0.,  ..., 0., 0., 0.],\n",
      "        [0., 0., 1.,  ..., 0., 0., 0.],\n",
      "        ...,\n",
      "        [0., 0., 0.,  ..., 0., 0., 0.],\n",
      "        [0., 0., 0.,  ..., 0., 0., 0.],\n",
      "        [0., 0., 0.,  ..., 0., 0., 0.]], requires_grad=True)\n",
      "bias\n",
      "Parameter containing:\n",
      "tensor([2., 2., 2., 2., 2., 2., 2., 2., 2., 2., 2., 2., 2., 2., 2., 2., 2., 2.,\n",
      "        2., 2., 2., 2., 2., 2., 2., 2., 2., 2., 2., 2., 2., 2., 2., 2., 2., 2.,\n",
      "        2., 2., 2., 2., 2., 2., 2., 2., 2., 2., 2., 2., 2., 2.],\n",
      "       requires_grad=True)\n",
      "\n",
      "Evaluated : tensor([3., 3., 3., 3., 3., 3., 3., 3., 3., 3., 3., 3., 3., 3., 3., 3., 3., 3.,\n",
      "        3., 3., 3., 3., 3., 3., 3., 3., 3., 3., 3., 3., 3., 3., 3., 3., 3., 3.,\n",
      "        3., 3., 3., 3., 3., 3., 3., 3., 3., 3., 3., 3., 3., 3.],\n",
      "       grad_fn=<ViewBackward0>)\n",
      "=========================\n"
     ]
    }
   ],
   "source": [
    "x = torch.ones(100)\n",
    "\n",
    "linear2 = nn.Linear(100, 50, bias=True)\n",
    "print(\"Original Weights ========\")\n",
    "for name, param in linear2.named_parameters(): \n",
    "    print(name)\n",
    "    print(param)\n",
    "print(f\"\\nEvaluted : {linear2(x)}\")\n",
    "print(\"=========================\")\n",
    "\n",
    "\n",
    "new_weight = torch.eye(n=50, m=100)\n",
    "new_bias = 2 * torch.ones(50)\n",
    "\n",
    "for name, param in linear2.named_parameters(): \n",
    "    if \"weight\" in name: \n",
    "        param.data = new_weight \n",
    "    elif \"bias\" in name: \n",
    "        param.data = new_bias \n",
    "    else: \n",
    "        pass \n",
    "\n",
    "print(\"Updated Weights =========\")    \n",
    "# now look at the update module \n",
    "for name, param in linear2.named_parameters(): \n",
    "    print(name)\n",
    "    print(param)\n",
    "print(f\"\\nEvaluated : {linear2(x)}\")\n",
    "print(\"=========================\")"
   ]
  },
  {
   "cell_type": "markdown",
   "metadata": {},
   "source": [
    "### Activation Functions"
   ]
  },
  {
   "cell_type": "markdown",
   "metadata": {},
   "source": [
    "Now let's talk about different types of activations functions. These have no parameters"
   ]
  },
  {
   "cell_type": "code",
   "execution_count": 31,
   "metadata": {},
   "outputs": [
    {
     "name": "stdout",
     "output_type": "stream",
     "text": [
      "tensor([  0.8653,  15.9285,  -1.4185,  -9.7655, -10.4387])\n",
      "tensor([ 0.8653, 15.9285,  0.0000,  0.0000,  0.0000])\n",
      "tensor([7.0378e-01, 1.0000e+00, 1.9490e-01, 5.7395e-05, 2.9278e-05])\n"
     ]
    }
   ],
   "source": [
    "relu = nn.ReLU() \n",
    "sigmoid = nn.Sigmoid() \n",
    "\n",
    "x = 10 * torch.randn(5) \n",
    "print(x) \n",
    "print(relu(x)) \n",
    "print(sigmoid(x))"
   ]
  },
  {
   "cell_type": "markdown",
   "metadata": {},
   "source": [
    "### Sequential"
   ]
  },
  {
   "cell_type": "markdown",
   "metadata": {},
   "source": [
    "The sequential class allows us to create compositions of functions easily. For example, we can make a simple sequential module by taking a linear map, plus a relu, plus a linear, plus a sigmoid. "
   ]
  },
  {
   "cell_type": "code",
   "execution_count": 38,
   "metadata": {},
   "outputs": [
    {
     "name": "stdout",
     "output_type": "stream",
     "text": [
      "tensor([0.6161, 0.5707, 0.5686, 0.4921, 0.4395, 0.4861, 0.4634, 0.4874, 0.5312,\n",
      "        0.5061], grad_fn=<SigmoidBackward0>)\n"
     ]
    }
   ],
   "source": [
    "sequential = nn.Sequential(\n",
    "    nn.Linear(30, 20), \n",
    "    nn.ReLU(), \n",
    "    nn.Linear(20, 10), \n",
    "    nn.Sigmoid()\n",
    ")\n",
    "\n",
    "x = torch.randn(30) \n",
    "print(sequential(x))"
   ]
  },
  {
   "cell_type": "markdown",
   "metadata": {},
   "source": [
    "Now if we take a look through its parameters, we can see that each unique parameter is indexed properly, so we can update them accordingly. "
   ]
  },
  {
   "cell_type": "code",
   "execution_count": 39,
   "metadata": {},
   "outputs": [
    {
     "name": "stdout",
     "output_type": "stream",
     "text": [
      "0.weight\n",
      "0.bias\n",
      "2.weight\n",
      "2.bias\n"
     ]
    }
   ],
   "source": [
    "for name, param in sequential.named_parameters(): \n",
    "    print(name) "
   ]
  },
  {
   "cell_type": "code",
   "execution_count": 42,
   "metadata": {},
   "outputs": [
    {
     "name": "stdout",
     "output_type": "stream",
     "text": [
      "Parameter containing:\n",
      "tensor([[1., 0., 0., 0., 0., 0., 0., 0., 0., 0., 0., 0., 0., 0., 0., 0., 0., 0.,\n",
      "         0., 0., 0., 0., 0., 0., 0., 0., 0., 0., 0., 0.],\n",
      "        [0., 1., 0., 0., 0., 0., 0., 0., 0., 0., 0., 0., 0., 0., 0., 0., 0., 0.,\n",
      "         0., 0., 0., 0., 0., 0., 0., 0., 0., 0., 0., 0.],\n",
      "        [0., 0., 1., 0., 0., 0., 0., 0., 0., 0., 0., 0., 0., 0., 0., 0., 0., 0.,\n",
      "         0., 0., 0., 0., 0., 0., 0., 0., 0., 0., 0., 0.],\n",
      "        [0., 0., 0., 1., 0., 0., 0., 0., 0., 0., 0., 0., 0., 0., 0., 0., 0., 0.,\n",
      "         0., 0., 0., 0., 0., 0., 0., 0., 0., 0., 0., 0.],\n",
      "        [0., 0., 0., 0., 1., 0., 0., 0., 0., 0., 0., 0., 0., 0., 0., 0., 0., 0.,\n",
      "         0., 0., 0., 0., 0., 0., 0., 0., 0., 0., 0., 0.],\n",
      "        [0., 0., 0., 0., 0., 1., 0., 0., 0., 0., 0., 0., 0., 0., 0., 0., 0., 0.,\n",
      "         0., 0., 0., 0., 0., 0., 0., 0., 0., 0., 0., 0.],\n",
      "        [0., 0., 0., 0., 0., 0., 1., 0., 0., 0., 0., 0., 0., 0., 0., 0., 0., 0.,\n",
      "         0., 0., 0., 0., 0., 0., 0., 0., 0., 0., 0., 0.],\n",
      "        [0., 0., 0., 0., 0., 0., 0., 1., 0., 0., 0., 0., 0., 0., 0., 0., 0., 0.,\n",
      "         0., 0., 0., 0., 0., 0., 0., 0., 0., 0., 0., 0.],\n",
      "        [0., 0., 0., 0., 0., 0., 0., 0., 1., 0., 0., 0., 0., 0., 0., 0., 0., 0.,\n",
      "         0., 0., 0., 0., 0., 0., 0., 0., 0., 0., 0., 0.],\n",
      "        [0., 0., 0., 0., 0., 0., 0., 0., 0., 1., 0., 0., 0., 0., 0., 0., 0., 0.,\n",
      "         0., 0., 0., 0., 0., 0., 0., 0., 0., 0., 0., 0.],\n",
      "        [0., 0., 0., 0., 0., 0., 0., 0., 0., 0., 1., 0., 0., 0., 0., 0., 0., 0.,\n",
      "         0., 0., 0., 0., 0., 0., 0., 0., 0., 0., 0., 0.],\n",
      "        [0., 0., 0., 0., 0., 0., 0., 0., 0., 0., 0., 1., 0., 0., 0., 0., 0., 0.,\n",
      "         0., 0., 0., 0., 0., 0., 0., 0., 0., 0., 0., 0.],\n",
      "        [0., 0., 0., 0., 0., 0., 0., 0., 0., 0., 0., 0., 1., 0., 0., 0., 0., 0.,\n",
      "         0., 0., 0., 0., 0., 0., 0., 0., 0., 0., 0., 0.],\n",
      "        [0., 0., 0., 0., 0., 0., 0., 0., 0., 0., 0., 0., 0., 1., 0., 0., 0., 0.,\n",
      "         0., 0., 0., 0., 0., 0., 0., 0., 0., 0., 0., 0.],\n",
      "        [0., 0., 0., 0., 0., 0., 0., 0., 0., 0., 0., 0., 0., 0., 1., 0., 0., 0.,\n",
      "         0., 0., 0., 0., 0., 0., 0., 0., 0., 0., 0., 0.],\n",
      "        [0., 0., 0., 0., 0., 0., 0., 0., 0., 0., 0., 0., 0., 0., 0., 1., 0., 0.,\n",
      "         0., 0., 0., 0., 0., 0., 0., 0., 0., 0., 0., 0.],\n",
      "        [0., 0., 0., 0., 0., 0., 0., 0., 0., 0., 0., 0., 0., 0., 0., 0., 1., 0.,\n",
      "         0., 0., 0., 0., 0., 0., 0., 0., 0., 0., 0., 0.],\n",
      "        [0., 0., 0., 0., 0., 0., 0., 0., 0., 0., 0., 0., 0., 0., 0., 0., 0., 1.,\n",
      "         0., 0., 0., 0., 0., 0., 0., 0., 0., 0., 0., 0.],\n",
      "        [0., 0., 0., 0., 0., 0., 0., 0., 0., 0., 0., 0., 0., 0., 0., 0., 0., 0.,\n",
      "         1., 0., 0., 0., 0., 0., 0., 0., 0., 0., 0., 0.],\n",
      "        [0., 0., 0., 0., 0., 0., 0., 0., 0., 0., 0., 0., 0., 0., 0., 0., 0., 0.,\n",
      "         0., 1., 0., 0., 0., 0., 0., 0., 0., 0., 0., 0.]], requires_grad=True)\n",
      "Parameter containing:\n",
      "tensor([-2., -2., -2., -2., -2., -2., -2., -2., -2., -2., -2., -2., -2., -2.,\n",
      "        -2., -2., -2., -2., -2., -2.], requires_grad=True)\n",
      "Parameter containing:\n",
      "tensor([[1., 1., 1., 1., 1., 1., 1., 1., 1., 1., 1., 1., 1., 1., 1., 1., 1., 1.,\n",
      "         1., 1.],\n",
      "        [1., 1., 1., 1., 1., 1., 1., 1., 1., 1., 1., 1., 1., 1., 1., 1., 1., 1.,\n",
      "         1., 1.],\n",
      "        [1., 1., 1., 1., 1., 1., 1., 1., 1., 1., 1., 1., 1., 1., 1., 1., 1., 1.,\n",
      "         1., 1.],\n",
      "        [1., 1., 1., 1., 1., 1., 1., 1., 1., 1., 1., 1., 1., 1., 1., 1., 1., 1.,\n",
      "         1., 1.],\n",
      "        [1., 1., 1., 1., 1., 1., 1., 1., 1., 1., 1., 1., 1., 1., 1., 1., 1., 1.,\n",
      "         1., 1.],\n",
      "        [1., 1., 1., 1., 1., 1., 1., 1., 1., 1., 1., 1., 1., 1., 1., 1., 1., 1.,\n",
      "         1., 1.],\n",
      "        [1., 1., 1., 1., 1., 1., 1., 1., 1., 1., 1., 1., 1., 1., 1., 1., 1., 1.,\n",
      "         1., 1.],\n",
      "        [1., 1., 1., 1., 1., 1., 1., 1., 1., 1., 1., 1., 1., 1., 1., 1., 1., 1.,\n",
      "         1., 1.],\n",
      "        [1., 1., 1., 1., 1., 1., 1., 1., 1., 1., 1., 1., 1., 1., 1., 1., 1., 1.,\n",
      "         1., 1.],\n",
      "        [1., 1., 1., 1., 1., 1., 1., 1., 1., 1., 1., 1., 1., 1., 1., 1., 1., 1.,\n",
      "         1., 1.]], requires_grad=True)\n",
      "Parameter containing:\n",
      "tensor([0., 1., 2., 3., 4., 5., 6., 7., 8., 9.], requires_grad=True)\n"
     ]
    }
   ],
   "source": [
    "new_params = {\n",
    "    \"0.weight\" : torch.eye(20, 30, dtype=torch.float32), \n",
    "    \"0.bias\" : torch.ones(20, dtype=torch.float32) * -2, \n",
    "    \"2.weight\" : torch.ones(10, 20, dtype=torch.float32), \n",
    "    \"2.bias\" : torch.arange(10, dtype=torch.float32)\n",
    "}\n",
    "\n",
    "for name, param in sequential.named_parameters(): \n",
    "    param.data = new_params[name] \n",
    "    \n",
    "for name, param in sequential.named_parameters(): \n",
    "    print(param) "
   ]
  },
  {
   "cell_type": "markdown",
   "metadata": {},
   "source": [
    "### Neural Networks"
   ]
  },
  {
   "cell_type": "code",
   "execution_count": 6,
   "metadata": {},
   "outputs": [],
   "source": [
    "class NeuralNetwork(nn.Module):\n",
    "    def __init__(self):\n",
    "        super().__init__()\n",
    "        self.flatten = nn.Flatten()\n",
    "        self.linear_relu_stack = nn.Sequential(\n",
    "            nn.Linear(32*32*3, 512),\n",
    "            nn.ReLU(),\n",
    "            nn.Linear(512, 512),\n",
    "            nn.ReLU(),\n",
    "            nn.Linear(512, 10)\n",
    "        )\n",
    "\n",
    "    def forward(self, x):\n",
    "        x = self.flatten(x)\n",
    "        logits = self.linear_relu_stack(x)\n",
    "        return logits\n",
    "    \n",
    "model = NeuralNetwork()"
   ]
  },
  {
   "cell_type": "markdown",
   "metadata": {},
   "source": [
    "Now we can explore its layers."
   ]
  },
  {
   "cell_type": "code",
   "execution_count": 44,
   "metadata": {},
   "outputs": [
    {
     "name": "stdout",
     "output_type": "stream",
     "text": [
      "linear_relu_stack.0.weight torch.Size([512, 3072])\n",
      "linear_relu_stack.0.bias torch.Size([512])\n",
      "linear_relu_stack.2.weight torch.Size([512, 512])\n",
      "linear_relu_stack.2.bias torch.Size([512])\n",
      "linear_relu_stack.4.weight torch.Size([10, 512])\n",
      "linear_relu_stack.4.bias torch.Size([10])\n"
     ]
    }
   ],
   "source": [
    "for name, param in model.named_parameters(): \n",
    "    print(name, param.shape)"
   ]
  }
 ],
 "metadata": {
  "kernelspec": {
   "display_name": "pytorch-base",
   "language": "python",
   "name": "python3"
  },
  "language_info": {
   "codemirror_mode": {
    "name": "ipython",
    "version": 3
   },
   "file_extension": ".py",
   "mimetype": "text/x-python",
   "name": "python",
   "nbconvert_exporter": "python",
   "pygments_lexer": "ipython3",
   "version": "3.10.13"
  }
 },
 "nbformat": 4,
 "nbformat_minor": 2
}
